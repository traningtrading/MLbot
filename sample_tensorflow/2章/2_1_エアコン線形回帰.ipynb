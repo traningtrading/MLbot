{
 "cells": [
  {
   "cell_type": "code",
   "execution_count": 1,
   "metadata": {},
   "outputs": [
    {
     "data": {
      "text/html": [
       "<div>\n",
       "<style scoped>\n",
       "    .dataframe tbody tr th:only-of-type {\n",
       "        vertical-align: middle;\n",
       "    }\n",
       "\n",
       "    .dataframe tbody tr th {\n",
       "        vertical-align: top;\n",
       "    }\n",
       "\n",
       "    .dataframe thead th {\n",
       "        text-align: right;\n",
       "    }\n",
       "</style>\n",
       "<table border=\"1\" class=\"dataframe\">\n",
       "  <thead>\n",
       "    <tr style=\"text-align: right;\">\n",
       "      <th></th>\n",
       "      <th>ルームエアコン所有数量</th>\n",
       "      <th>最高気温</th>\n",
       "    </tr>\n",
       "  </thead>\n",
       "  <tbody>\n",
       "    <tr>\n",
       "      <th>北海道</th>\n",
       "      <td>344</td>\n",
       "      <td>27.0</td>\n",
       "    </tr>\n",
       "    <tr>\n",
       "      <th>青森県</th>\n",
       "      <td>1044</td>\n",
       "      <td>27.8</td>\n",
       "    </tr>\n",
       "    <tr>\n",
       "      <th>岩手県</th>\n",
       "      <td>1183</td>\n",
       "      <td>28.8</td>\n",
       "    </tr>\n",
       "    <tr>\n",
       "      <th>宮城県</th>\n",
       "      <td>1686</td>\n",
       "      <td>28.6</td>\n",
       "    </tr>\n",
       "    <tr>\n",
       "      <th>秋田県</th>\n",
       "      <td>1706</td>\n",
       "      <td>28.7</td>\n",
       "    </tr>\n",
       "  </tbody>\n",
       "</table>\n",
       "</div>"
      ],
      "text/plain": [
       "     ルームエアコン所有数量  最高気温\n",
       "北海道          344  27.0\n",
       "青森県         1044  27.8\n",
       "岩手県         1183  28.8\n",
       "宮城県         1686  28.6\n",
       "秋田県         1706  28.7"
      ]
     },
     "execution_count": 1,
     "metadata": {},
     "output_type": "execute_result"
    }
   ],
   "source": [
    "import pandas as pd\n",
    "ac_temp = pd.read_csv('./lm_example.csv' , index_col=[0])\n",
    "ac_temp.head()"
   ]
  },
  {
   "cell_type": "code",
   "execution_count": 4,
   "metadata": {},
   "outputs": [
    {
     "data": {
      "text/plain": [
       "<Axes: xlabel='最高気温', ylabel='ルームエアコン所有数量'>"
      ]
     },
     "execution_count": 4,
     "metadata": {},
     "output_type": "execute_result"
    },
    {
     "data": {
      "image/png": "[encoded data removed]",
      "text/plain": [
       "<Figure size 640x480 with 1 Axes>"
      ]
     },
     "metadata": {},
     "output_type": "display_data"
    }
   ],
   "source": [
    "import matplotlib.pyplot as plt\n",
    "import seaborn as sns\n",
    "# 図のスタイルをdarkgridにする\n",
    "sns.set_style('darkgrid')\n",
    "# 図に日本語が利用出来るようにする\n",
    "plt.rcParams['font.family'] = 'MS Gothic'\n",
    "%matplotlib inline\n",
    "\n",
    "# label\n",
    "sns.regplot(\n",
    "    x=ac_temp.columns[1], #'最高気温',\n",
    "    y=ac_temp.columns[0], #'ルームエアコン所有数量',\n",
    "    data=ac_temp,\n",
    "    fit_reg=False,\n",
    "    label=ac_temp.index\n",
    ")"
   ]
  },
  {
   "cell_type": "code",
   "execution_count": 5,
   "metadata": {},
   "outputs": [
    {
     "data": {
      "text/html": [
       "<table class=\"simpletable\">\n",
       "<caption>OLS Regression Results</caption>\n",
       "<tr>\n",
       "  <th>Dep. Variable:</th>       <td>ルームエアコン所有数量</td>   <th>  R-squared:         </th> <td>   0.404</td>\n",
       "</tr>\n",
       "<tr>\n",
       "  <th>Model:</th>                   <td>OLS</td>       <th>  Adj. R-squared:    </th> <td>   0.390</td>\n",
       "</tr>\n",
       "<tr>\n",
       "  <th>Method:</th>             <td>Least Squares</td>  <th>  F-statistic:       </th> <td>   30.46</td>\n",
       "</tr>\n",
       "<tr>\n",
       "  <th>Date:</th>             <td>Sun, 18 Jun 2023</td> <th>  Prob (F-statistic):</th> <td>1.61e-06</td>\n",
       "</tr>\n",
       "<tr>\n",
       "  <th>Time:</th>                 <td>15:06:18</td>     <th>  Log-Likelihood:    </th> <td> -365.33</td>\n",
       "</tr>\n",
       "<tr>\n",
       "  <th>No. Observations:</th>      <td>    47</td>      <th>  AIC:               </th> <td>   734.7</td>\n",
       "</tr>\n",
       "<tr>\n",
       "  <th>Df Residuals:</th>          <td>    45</td>      <th>  BIC:               </th> <td>   738.4</td>\n",
       "</tr>\n",
       "<tr>\n",
       "  <th>Df Model:</th>              <td>     1</td>      <th>                     </th>     <td> </td>   \n",
       "</tr>\n",
       "<tr>\n",
       "  <th>Covariance Type:</th>      <td>nonrobust</td>    <th>                     </th>     <td> </td>   \n",
       "</tr>\n",
       "</table>\n",
       "<table class=\"simpletable\">\n",
       "<tr>\n",
       "    <td></td>       <th>coef</th>     <th>std err</th>      <th>t</th>      <th>P>|t|</th>  <th>[0.025</th>    <th>0.975]</th>  \n",
       "</tr>\n",
       "<tr>\n",
       "  <th>const</th> <td> -1.01e+04</td> <td> 2328.911</td> <td>   -4.339</td> <td> 0.000</td> <td>-1.48e+04</td> <td>-5413.680</td>\n",
       "</tr>\n",
       "<tr>\n",
       "  <th>最高気温</th>  <td>  417.7945</td> <td>   75.704</td> <td>    5.519</td> <td> 0.000</td> <td>  265.319</td> <td>  570.270</td>\n",
       "</tr>\n",
       "</table>\n",
       "<table class=\"simpletable\">\n",
       "<tr>\n",
       "  <th>Omnibus:</th>       <td> 2.300</td> <th>  Durbin-Watson:     </th> <td>   1.134</td>\n",
       "</tr>\n",
       "<tr>\n",
       "  <th>Prob(Omnibus):</th> <td> 0.317</td> <th>  Jarque-Bera (JB):  </th> <td>   1.758</td>\n",
       "</tr>\n",
       "<tr>\n",
       "  <th>Skew:</th>          <td>-0.473</td> <th>  Prob(JB):          </th> <td>   0.415</td>\n",
       "</tr>\n",
       "<tr>\n",
       "  <th>Kurtosis:</th>      <td> 3.036</td> <th>  Cond. No.          </th> <td>    837.</td>\n",
       "</tr>\n",
       "</table><br/><br/>Notes:<br/>[1] Standard Errors assume that the covariance matrix of the errors is correctly specified."
      ],
      "text/latex": [
       "\\begin{center}\n",
       "\\begin{tabular}{lclc}\n",
       "\\toprule\n",
       "\\textbf{Dep. Variable:}    &   ルームエアコン所有数量    & \\textbf{  R-squared:         } &     0.404   \\\\\n",
       "\\textbf{Model:}            &       OLS        & \\textbf{  Adj. R-squared:    } &     0.390   \\\\\n",
       "\\textbf{Method:}           &  Least Squares   & \\textbf{  F-statistic:       } &     30.46   \\\\\n",
       "\\textbf{Date:}             & Sun, 18 Jun 2023 & \\textbf{  Prob (F-statistic):} &  1.61e-06   \\\\\n",
       "\\textbf{Time:}             &     15:06:18     & \\textbf{  Log-Likelihood:    } &   -365.33   \\\\\n",
       "\\textbf{No. Observations:} &          47      & \\textbf{  AIC:               } &     734.7   \\\\\n",
       "\\textbf{Df Residuals:}     &          45      & \\textbf{  BIC:               } &     738.4   \\\\\n",
       "\\textbf{Df Model:}         &           1      & \\textbf{                     } &             \\\\\n",
       "\\textbf{Covariance Type:}  &    nonrobust     & \\textbf{                     } &             \\\\\n",
       "\\bottomrule\n",
       "\\end{tabular}\n",
       "\\begin{tabular}{lcccccc}\n",
       "               & \\textbf{coef} & \\textbf{std err} & \\textbf{t} & \\textbf{P$> |$t$|$} & \\textbf{[0.025} & \\textbf{0.975]}  \\\\\n",
       "\\midrule\n",
       "\\textbf{const} &    -1.01e+04  &     2328.911     &    -4.339  &         0.000        &    -1.48e+04    &    -5413.680     \\\\\n",
       "\\textbf{最高気温}  &     417.7945  &       75.704     &     5.519  &         0.000        &      265.319    &      570.270     \\\\\n",
       "\\bottomrule\n",
       "\\end{tabular}\n",
       "\\begin{tabular}{lclc}\n",
       "\\textbf{Omnibus:}       &  2.300 & \\textbf{  Durbin-Watson:     } &    1.134  \\\\\n",
       "\\textbf{Prob(Omnibus):} &  0.317 & \\textbf{  Jarque-Bera (JB):  } &    1.758  \\\\\n",
       "\\textbf{Skew:}          & -0.473 & \\textbf{  Prob(JB):          } &    0.415  \\\\\n",
       "\\textbf{Kurtosis:}      &  3.036 & \\textbf{  Cond. No.          } &     837.  \\\\\n",
       "\\bottomrule\n",
       "\\end{tabular}\n",
       "%\\caption{OLS Regression Results}\n",
       "\\end{center}\n",
       "\n",
       "Notes: \\newline\n",
       " [1] Standard Errors assume that the covariance matrix of the errors is correctly specified."
      ],
      "text/plain": [
       "<class 'statsmodels.iolib.summary.Summary'>\n",
       "\"\"\"\n",
       "                            OLS Regression Results                            \n",
       "==============================================================================\n",
       "Dep. Variable:            ルームエアコン所有数量   R-squared:                       0.404\n",
       "Model:                            OLS   Adj. R-squared:                  0.390\n",
       "Method:                 Least Squares   F-statistic:                     30.46\n",
       "Date:                Sun, 18 Jun 2023   Prob (F-statistic):           1.61e-06\n",
       "Time:                        15:06:18   Log-Likelihood:                -365.33\n",
       "No. Observations:                  47   AIC:                             734.7\n",
       "Df Residuals:                      45   BIC:                             738.4\n",
       "Df Model:                           1                                         \n",
       "Covariance Type:            nonrobust                                         \n",
       "==============================================================================\n",
       "                 coef    std err          t      P>|t|      [0.025      0.975]\n",
       "------------------------------------------------------------------------------\n",
       "const       -1.01e+04   2328.911     -4.339      0.000   -1.48e+04   -5413.680\n",
       "最高気温         417.7945     75.704      5.519      0.000     265.319     570.270\n",
       "==============================================================================\n",
       "Omnibus:                        2.300   Durbin-Watson:                   1.134\n",
       "Prob(Omnibus):                  0.317   Jarque-Bera (JB):                1.758\n",
       "Skew:                          -0.473   Prob(JB):                        0.415\n",
       "Kurtosis:                       3.036   Cond. No.                         837.\n",
       "==============================================================================\n",
       "\n",
       "Notes:\n",
       "[1] Standard Errors assume that the covariance matrix of the errors is correctly specified.\n",
       "\"\"\""
      ]
     },
     "execution_count": 5,
     "metadata": {},
     "output_type": "execute_result"
    }
   ],
   "source": [
    "import statsmodels.api as sm\n",
    "\n",
    "explanatory_variable = sm.add_constant(ac_temp['最高気温'])\n",
    "model = sm.OLS(\n",
    "    endog=ac_temp['ルームエアコン所有数量'],\n",
    "    exog=explanatory_variable\n",
    ")\n",
    "result = model.fit()\n",
    "result.summary()"
   ]
  },
  {
   "attachments": {},
   "cell_type": "markdown",
   "metadata": {},
   "source": [
    "$$ \n",
    "Y = -1.01\\times10^{4} + 417.7945X \n",
    "$$"
   ]
  },
  {
   "cell_type": "code",
   "execution_count": null,
   "metadata": {},
   "outputs": [],
   "source": []
  }
 ],
 "metadata": {
  "kernelspec": {
   "display_name": "Python 3",
   "language": "python",
   "name": "python3"
  },
  "language_info": {
   "codemirror_mode": {
    "name": "ipython",
    "version": 3
   },
   "file_extension": ".py",
   "mimetype": "text/x-python",
   "name": "python",
   "nbconvert_exporter": "python",
   "pygments_lexer": "ipython3",
   "version": "3.9.13"
  },
  "orig_nbformat": 4
 },
 "nbformat": 4,
 "nbformat_minor": 2
}
