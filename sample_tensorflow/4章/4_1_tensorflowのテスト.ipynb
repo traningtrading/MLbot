{
 "cells": [
  {
   "cell_type": "code",
   "execution_count": 10,
   "metadata": {},
   "outputs": [
    {
     "name": "stdout",
     "output_type": "stream",
     "text": [
      "tf.Tensor(10.0, shape=(), dtype=float32)\n"
     ]
    }
   ],
   "source": [
    "import tensorflow as tf\n",
    "\n",
    "a = tf.constant(3.)\n",
    "b = tf.constant(4.)\n",
    "c = tf.constant(2.)\n",
    "mul_value = a * c\n",
    "add_value = mul_value + b\n",
    "\n",
    "print(add_value)"
   ]
  }
 ],
 "metadata": {
  "kernelspec": {
   "display_name": "traningtrading",
   "language": "python",
   "name": "python3"
  },
  "language_info": {
   "codemirror_mode": {
    "name": "ipython",
    "version": 3
   },
   "file_extension": ".py",
   "mimetype": "text/x-python",
   "name": "python",
   "nbconvert_exporter": "python",
   "pygments_lexer": "ipython3",
   "version": "3.10.11"
  },
  "orig_nbformat": 4
 },
 "nbformat": 4,
 "nbformat_minor": 2
}
