{
 "cells": [
  {
   "cell_type": "code",
   "execution_count": 1,
   "metadata": {},
   "outputs": [],
   "source": [
    "def sample_function(x):\n",
    "    if not type(x) is int:\n",
    "        print(x, \"is not integer.\")\n",
    "    elif x%2 == 0:\n",
    "        print(x, \"is even number.\")\n",
    "    elif x%2 == 1:\n",
    "        print(x, \"is odd number.\")"
   ]
  },
  {
   "cell_type": "code",
   "execution_count": 2,
   "metadata": {},
   "outputs": [
    {
     "name": "stdout",
     "output_type": "stream",
     "text": [
      "XXX is not integer.\n",
      "0 is even number.\n",
      "1 is odd number.\n",
      "2 is even number.\n",
      "3 is odd number.\n",
      "0.0 is not integer.\n"
     ]
    }
   ],
   "source": [
    "sample_function(\"XXX\")\n",
    "sample_function(0)\n",
    "sample_function(1)\n",
    "sample_function(2)\n",
    "sample_function(3)\n",
    "sample_function(0.0)"
   ]
  },
  {
   "cell_type": "code",
   "execution_count": null,
   "metadata": {},
   "outputs": [],
   "source": []
  }
 ],
 "metadata": {
  "kernelspec": {
   "display_name": "Python 3",
   "language": "python",
   "name": "python3"
  },
  "language_info": {
   "codemirror_mode": {
    "name": "ipython",
    "version": 3
   },
   "file_extension": ".py",
   "mimetype": "text/x-python",
   "name": "python",
   "nbconvert_exporter": "python",
   "pygments_lexer": "ipython3",
   "version": "3.9.13"
  }
 },
 "nbformat": 4,
 "nbformat_minor": 2
}
