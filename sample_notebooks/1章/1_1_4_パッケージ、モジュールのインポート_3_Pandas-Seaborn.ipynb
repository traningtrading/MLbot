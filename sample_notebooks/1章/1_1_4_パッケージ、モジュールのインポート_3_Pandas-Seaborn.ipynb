{
 "cells": [
  {
   "cell_type": "code",
   "execution_count": 1,
   "metadata": {},
   "outputs": [],
   "source": [
    "# Pnadasのversionに起因するwarningsを抑制\n",
    "import warnings\n",
    "warnings.filterwarnings('ignore')"
   ]
  },
  {
   "cell_type": "code",
   "execution_count": 2,
   "metadata": {},
   "outputs": [],
   "source": [
    "import pandas as pd"
   ]
  },
  {
   "cell_type": "code",
   "execution_count": 3,
   "metadata": {},
   "outputs": [
    {
     "name": "stdout",
     "output_type": "stream",
     "text": [
      "  Product_Name  Value\n",
      "0            A    300\n",
      "1            B    500\n"
     ]
    }
   ],
   "source": [
    "columns_list = [\"Product_Name\", \"Value\"]\n",
    "index_list = [[\"A\", 300],\n",
    "              [\"B\", 500]]\n",
    "\n",
    "product_list_df = pd.DataFrame(index_list, columns = columns_list)\n",
    "print(product_list_df)"
   ]
  },
  {
   "cell_type": "code",
   "execution_count": 4,
   "metadata": {},
   "outputs": [],
   "source": [
    "WORK_DIR = \"data directory\" #csvの保存場所\n",
    "csv_name = \"product_list.csv\" #csvの保存名\n",
    "product_list_df.to_csv(WORK_DIR + csv_name, index = False)"
   ]
  },
  {
   "cell_type": "code",
   "execution_count": 5,
   "metadata": {},
   "outputs": [
    {
     "name": "stdout",
     "output_type": "stream",
     "text": [
      "  Product_Name  Value\n",
      "0            A    300\n",
      "1            B    500\n"
     ]
    }
   ],
   "source": [
    "read_csv_df = pd.read_csv(WORK_DIR + csv_name)\n",
    "print(read_csv_df)"
   ]
  },
  {
   "cell_type": "code",
   "execution_count": 6,
   "metadata": {},
   "outputs": [
    {
     "name": "stdout",
     "output_type": "stream",
     "text": [
      "   Review_Date Product_Name  Review_Score\n",
      "0   2019-01-01            A           3.5\n",
      "1   2019-01-01            B           4.0\n",
      "2   2019-01-01            C           2.0\n",
      "3   2019-01-01            A           2.5\n",
      "4   2019-01-01            B           3.5\n",
      "5   2019-01-02            C           3.0\n",
      "6   2019-01-02            A           5.0\n",
      "7   2019-01-02            B           3.5\n",
      "8   2019-01-02            C           4.0\n",
      "9   2019-01-02            A           2.0\n",
      "10  2019-01-03            B           2.5\n",
      "11  2019-01-03            C           3.5\n",
      "12  2019-01-03            A           3.0\n",
      "13  2019-01-03            B           5.0\n",
      "14  2019-01-03            C           3.5\n",
      "15  2019-01-04            A           4.0\n",
      "16  2019-01-04            B           2.0\n",
      "17  2019-01-04            C           2.5\n",
      "18  2019-01-04            A           3.5\n",
      "19  2019-01-04            B           3.0\n"
     ]
    }
   ],
   "source": [
    "import numpy as np\n",
    "\n",
    "columns_list_ = [\"Review_Date\", \"Product_Name\", \"Review_Score\"]\n",
    "\n",
    "date_list = pd.date_range(\"2019/01/01\", periods = 4)\n",
    "product_name_list = [\"A\", \"B\", \"C\"]\n",
    "score_list = [3.5, 4.0, 2.0, 2.5, 3.5, 3, 5]\n",
    "index_list_ = [[date_list[i//5],\n",
    "                product_name_list[i%3],\n",
    "                score_list[i%7]]  for i in range(20)]\n",
    "    \n",
    "product_review_df = pd.DataFrame(index_list_, columns = columns_list_)\n",
    "print(product_review_df)"
   ]
  },
  {
   "cell_type": "code",
   "execution_count": 7,
   "metadata": {},
   "outputs": [
    {
     "name": "stdout",
     "output_type": "stream",
     "text": [
      "  Product_Name  Value\n",
      "0            A    300\n",
      "1            B    500\n",
      "2            C    800\n"
     ]
    }
   ],
   "source": [
    "product_C_info_df = pd.DataFrame({\"Product_Name\": [\"C\"],\"Value\": [800]})\n",
    "\n",
    "product_list_df_ = pd.concat([product_list_df, product_C_info_df],\n",
    "                             ignore_index = True)\n",
    "print(product_list_df_)"
   ]
  },
  {
   "cell_type": "code",
   "execution_count": 8,
   "metadata": {},
   "outputs": [
    {
     "name": "stdout",
     "output_type": "stream",
     "text": [
      "              Review_Score\n",
      "Product_Name              \n",
      "A                 3.357143\n",
      "B                 3.357143\n",
      "C                 3.083333\n"
     ]
    }
   ],
   "source": [
    "review_group_by_product_name = product_review_df.groupby(\"Product_Name\")\n",
    "review_score_mean = review_group_by_product_name.mean()\n",
    "print(review_score_mean)"
   ]
  },
  {
   "cell_type": "code",
   "execution_count": 9,
   "metadata": {},
   "outputs": [
    {
     "name": "stdout",
     "output_type": "stream",
     "text": [
      "  Product_Name  Value  Review_Score\n",
      "0            A    300      3.357143\n",
      "1            B    500      3.357143\n",
      "2            C    800      3.083333\n"
     ]
    }
   ],
   "source": [
    "product_list_df__ = pd.merge(product_list_df_,\n",
    "                             review_score_mean,\n",
    "                             left_on=\"Product_Name\",\n",
    "                             right_index=True)\n",
    "print(product_list_df__)"
   ]
  },
  {
   "cell_type": "code",
   "execution_count": 10,
   "metadata": {},
   "outputs": [
    {
     "name": "stdout",
     "output_type": "stream",
     "text": [
      "  Product_Name  Value  Review_Score_Mean\n",
      "0            A    300           3.357143\n",
      "1            B    500           3.357143\n",
      "2            C    800           3.083333\n"
     ]
    }
   ],
   "source": [
    "product_list_df___ = product_list_df__.rename(columns=\n",
    "                                              {\"Review_Score\": \"Review_Score_Mean\"})\n",
    "print(product_list_df___)"
   ]
  },
  {
   "cell_type": "code",
   "execution_count": 11,
   "metadata": {
    "scrolled": false
   },
   "outputs": [
    {
     "name": "stdout",
     "output_type": "stream",
     "text": [
      "         Date Product_Name  Review_Score_Mean\n",
      "0  2019-01-01            A           3.000000\n",
      "1  2019-01-01            B           3.750000\n",
      "2  2019-01-01            C           2.000000\n",
      "3  2019-01-02            A           3.250000\n",
      "4  2019-01-02            B           3.666667\n",
      "5  2019-01-02            C           3.000000\n",
      "6  2019-01-03            A           3.200000\n",
      "7  2019-01-03            B           3.700000\n",
      "8  2019-01-03            C           3.200000\n",
      "9  2019-01-04            A           3.357143\n",
      "10 2019-01-04            B           3.357143\n",
      "11 2019-01-04            C           3.083333\n"
     ]
    }
   ],
   "source": [
    "graph_df = pd.DataFrame(columns = [\"Product_Name\",\"Date\",\"Review_Score_Mean\"])\n",
    "\n",
    "for i in range(4):\n",
    "    ymd = date_list[i]\n",
    "    calculation = product_review_df[product_review_df.Review_Date <= ymd]\n",
    "    calculation = calculation.groupby(\"Product_Name\").mean()\n",
    "    calculation = calculation.assign(Date = ymd)\n",
    "    calculation = calculation.reset_index()\n",
    "    calculation = calculation.rename(columns = {\"Review_Score\": \"Review_Score_Mean\"})\n",
    "    graph_df = graph_df.append(calculation, ignore_index=True)\n",
    "    \n",
    "print(graph_df)"
   ]
  },
  {
   "cell_type": "code",
   "execution_count": 12,
   "metadata": {},
   "outputs": [],
   "source": [
    "import seaborn as sns"
   ]
  },
  {
   "cell_type": "code",
   "execution_count": 13,
   "metadata": {},
   "outputs": [
    {
     "data": {
      "text/plain": [
       "<matplotlib.axes._subplots.AxesSubplot at 0x1d89ad3f9b0>"
      ]
     },
     "execution_count": 13,
     "metadata": {},
     "output_type": "execute_result"
    },
    {
     "data": {
      "image/png": "[encoded data removed]",
      "text/plain": [
       "<Figure size 432x288 with 1 Axes>"
      ]
     },
     "metadata": {
      "needs_background": "light"
     },
     "output_type": "display_data"
    }
   ],
   "source": [
    "sns.lineplot(x = \"Date\", y = \"Review_Score_Mean\",\n",
    "             data = graph_df[graph_df.Product_Name == \"A\"])"
   ]
  },
  {
   "cell_type": "code",
   "execution_count": 14,
   "metadata": {},
   "outputs": [
    {
     "data": {
      "text/plain": [
       "<matplotlib.axes._subplots.AxesSubplot at 0x1d89ce20710>"
      ]
     },
     "execution_count": 14,
     "metadata": {},
     "output_type": "execute_result"
    },
    {
     "data": {
      "image/png": "[encoded data removed]",
      "text/plain": [
       "<Figure size 432x288 with 1 Axes>"
      ]
     },
     "metadata": {
      "needs_background": "light"
     },
     "output_type": "display_data"
    }
   ],
   "source": [
    "sns.lineplot(x = \"Date\", y = \"Review_Score_Mean\", hue = \"Product_Name\", data = graph_df)"
   ]
  },
  {
   "cell_type": "code",
   "execution_count": 15,
   "metadata": {},
   "outputs": [
    {
     "data": {
      "image/png": "[encoded data removed]",
      "text/plain": [
       "<Figure size 648x216 with 3 Axes>"
      ]
     },
     "metadata": {
      "needs_background": "light"
     },
     "output_type": "display_data"
    }
   ],
   "source": [
    "g = sns.FacetGrid(product_review_df[[\"Product_Name\", \"Review_Score\"]],\n",
    "                  col = \"Product_Name\")\n",
    "g = g.map(sns.distplot, \"Review_Score\")"
   ]
  }
 ],
 "metadata": {
  "kernelspec": {
   "display_name": "Python 3",
   "language": "python",
   "name": "python3"
  },
  "language_info": {
   "codemirror_mode": {
    "name": "ipython",
    "version": 3
   },
   "file_extension": ".py",
   "mimetype": "text/x-python",
   "name": "python",
   "nbconvert_exporter": "python",
   "pygments_lexer": "ipython3",
   "version": "3.6.8"
  }
 },
 "nbformat": 4,
 "nbformat_minor": 2
}
