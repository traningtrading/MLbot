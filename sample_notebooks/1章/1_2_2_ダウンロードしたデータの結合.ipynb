{
 "cells": [
  {
   "cell_type": "markdown",
   "metadata": {
    "collapsed": true
   },
   "source": [
    "## ダウンロードしたデータの結合\n",
    "\n",
    "前項でダウンロードしたデータは、日付ごとに分かれているので、1つのファイルにまとめます。"
   ]
  },
  {
   "cell_type": "code",
   "execution_count": null,
   "metadata": {},
   "outputs": [],
   "source": [
    "import re\n",
    "import pandas as pd\n",
    "from tqdm import tqdm_notebook as tqdm\n",
    "from os import path\n",
    "from pathlib import Path"
   ]
  },
  {
   "cell_type": "code",
   "execution_count": null,
   "metadata": {},
   "outputs": [],
   "source": [
    "DATA_DIR = 'C:/sample/data/download_data'  # データをダウンロードしたフォルダ\n",
    "PRICE_DIR = path.join(DATA_DIR, 'japan-all-stock-prices')  # 株価一覧表\n",
    "STOCK_DATA_DIR = path.join(DATA_DIR, 'japan-all-stock-data')  # 投資指標データ\n",
    "FIN_RESULTS_DIR = path.join(DATA_DIR, 'japan-all-stock-financial-results')  # 決算・財務・業績データ\n",
    "OUT_DIR = 'C:/sample/data'  # 結合したデータを保存するフォルダ"
   ]
  },
  {
   "cell_type": "code",
   "execution_count": null,
   "metadata": {},
   "outputs": [],
   "source": [
    "price_data = []\n",
    "file_list = list(Path(PRICE_DIR).glob('*.csv'))  # PRICE_DIR以下にあるcsvファイルのパスをすべて取得する\n",
    "\n",
    "for file in tqdm(file_list):\n",
    "    data_ = pd.read_csv(f'file:{file}', encoding='sjis', na_values='-')\n",
    "    data_.columns = [column.strip() for column in data_.columns]  # カラム名にスペースが混じることがあるので削除\n",
    "    timestamp = pd.Timestamp(re.findall(r'\\d{8}', file.stem)[0])  # 日時はファイル名から取得\n",
    "    price_data.append(data_.assign(日時=timestamp))\n",
    "\n",
    "price_data = pd.concat(price_data).assign(\n",
    "    日時=lambda x: x['日時'].map(\n",
    "        lambda elm: pd.Timestamp(pd.to_datetime(elm).date())  # 時刻をすべて00:00:00に合わせる\n",
    "    )\n",
    ")"
   ]
  },
  {
   "cell_type": "code",
   "execution_count": null,
   "metadata": {},
   "outputs": [],
   "source": [
    "stock_data = []\n",
    "file_list = list(Path(STOCK_DATA_DIR).glob('*.csv'))  # STOCK_DATA_DIR以下にあるcsvファイルのパスをすべて取得する\n",
    "\n",
    "for file in tqdm(file_list):\n",
    "    data_ = pd.read_csv(f'file:{file}', encoding='sjis', na_values='-')\n",
    "    data_.columns = [column.strip() for column in data_.columns]  # カラム名にスペースが混じることがあるので削除\n",
    "    timestamp = pd.Timestamp(re.findall(r'\\d{8}', file.stem)[0])  # 日時はファイル名から取得\n",
    "    stock_data.append(data_.assign(日時=timestamp))\n",
    "\n",
    "stock_data = pd.concat(stock_data).assign(\n",
    "    日時=lambda x: x['日時'].map(\n",
    "        lambda elm: pd.Timestamp(pd.to_datetime(elm).date())  # 時刻をすべて00:00:00に合わせる\n",
    "    ),\n",
    "    安値日付=lambda x: x['安値日付'].map(\n",
    "        lambda elm: pd.Timestamp(pd.to_datetime(elm).date())  # 時刻をすべて00:00:00に合わせる\n",
    "    ),\n",
    "    高値日付=lambda x: x['高値日付'].map(\n",
    "        lambda elm: pd.Timestamp(pd.to_datetime(elm).date())  # 時刻をすべて00:00:00に合わせる\n",
    "    )\n",
    ")"
   ]
  },
  {
   "cell_type": "code",
   "execution_count": null,
   "metadata": {},
   "outputs": [],
   "source": [
    "daily_data = pd.merge(price_data, stock_data, on=['SC', '時価総額（百万円）', '名称', '市場', '業種', '日時'], how='left')"
   ]
  },
  {
   "cell_type": "code",
   "execution_count": null,
   "metadata": {},
   "outputs": [],
   "source": [
    "financial_data = []\n",
    "file_list = list(Path(FIN_RESULTS_DIR).glob('*.csv'))\n",
    "for file in tqdm(file_list):\n",
    "    data_ = pd.read_csv(f'file:{file}', encoding='sjis', na_values='-')\n",
    "    data_.columns = [column.strip() for column in data_.columns]\n",
    "    timestamp = pd.Timestamp(re.findall(r'\\d{8}', file.stem)[0])\n",
    "    financial_data.append(data_.assign(日時=timestamp))\n",
    "\n",
    "financial_data = pd.concat(financial_data)\n",
    "financial_data = financial_data.assign(\n",
    "    日時=lambda x: x['日時'].map(\n",
    "        lambda elm: pd.Timestamp(pd.to_datetime(elm).date())\n",
    "    ),\n",
    "    kessan_tmp=lambda x: x['決算発表日（本決算）'].map(\n",
    "        lambda elm: pd.Timestamp(pd.to_datetime(elm).date())  # 全角()が扱えないので一時カラムで対処\n",
    "    )\n",
    ").drop(columns='決算発表日（本決算）').rename(columns={'kessan_tmp': '決算発表日（本決算）'})[financial_data.columns]  # 列の順番を元に戻す"
   ]
  },
  {
   "cell_type": "markdown",
   "metadata": {
    "collapsed": true
   },
   "source": [
    "結合したデータを保存します。pickleという形式で保存することでデータの型などのメタ情報をそのまま保存できます。"
   ]
  },
  {
   "cell_type": "code",
   "execution_count": null,
   "metadata": {},
   "outputs": [],
   "source": [
    "daily_data.to_pickle(path.join(OUT_DIR, 'daily_data.pickle'))\n",
    "financial_data.to_pickle(path.join(OUT_DIR, 'financial_data_all.pickle'))"
   ]
  }
 ],
 "metadata": {
  "kernelspec": {
   "display_name": "Python 3",
   "language": "python",
   "name": "python3"
  },
  "language_info": {
   "codemirror_mode": {
    "name": "ipython",
    "version": 3
   },
   "file_extension": ".py",
   "mimetype": "text/x-python",
   "name": "python",
   "nbconvert_exporter": "python",
   "pygments_lexer": "ipython3",
   "version": "3.6.8"
  }
 },
 "nbformat": 4,
 "nbformat_minor": 1
}
