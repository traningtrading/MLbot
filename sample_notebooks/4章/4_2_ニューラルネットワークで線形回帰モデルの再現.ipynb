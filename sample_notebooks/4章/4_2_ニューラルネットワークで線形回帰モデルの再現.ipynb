{
 "cells": [
  {
   "cell_type": "markdown",
   "metadata": {},
   "source": [
    "ソースコード4.9　必要なパッケージインポート"
   ]
  },
  {
   "cell_type": "code",
   "execution_count": null,
   "metadata": {},
   "outputs": [],
   "source": [
    "import os.path\n",
    "import pandas as pd\n",
    "import tensorflow as tf\n",
    "import numpy as np\n",
    "import matplotlib.pyplot as plt\n",
    "import seaborn as sns\n",
    "\n",
    "from tqdm import tnrange, tqdm_notebook, tqdm\n",
    "\n",
    "from IPython.core.display import display\n",
    "\n",
    "tf.set_random_seed(123456789)\n",
    "np.random.seed(123456789)\n",
    "\n",
    "%matplotlib inline\n",
    "\n",
    "sns.set()\n",
    "sns.set_style('white')\n",
    "plt.rcParams['font.family'] = 'Yu Mincho'\n",
    "\n",
    "# C:\\\\sample\\\\nn_linear_regression にデータを読み書きする\n",
    "WORK_DIR = os.path.join('C:\\\\', 'sample', 'nn_linear_regression') "
   ]
  },
  {
   "cell_type": "markdown",
   "metadata": {},
   "source": [
    "ソースコード4.10　回帰分析で準備したデータの読み込み"
   ]
  },
  {
   "cell_type": "code",
   "execution_count": null,
   "metadata": {},
   "outputs": [],
   "source": [
    "print('データ読み込み開始')\n",
    "data_for_analysis = pd.read_pickle(\n",
    "    os.path.join(WORK_DIR, 'data_for_analysis_fin.pickle')\n",
    ")\n",
    "print('データ読み込み終了')"
   ]
  },
  {
   "cell_type": "markdown",
   "metadata": {},
   "source": [
    "ソースコード4.11　データ欠損の範囲調査"
   ]
  },
  {
   "cell_type": "code",
   "execution_count": null,
   "metadata": {},
   "outputs": [],
   "source": [
    "np.isnan(data_for_analysis.select_dtypes(include=[np.number])).sum(axis=0)"
   ]
  },
  {
   "cell_type": "markdown",
   "metadata": {},
   "source": [
    "ソースコード4.12　欠損しているデータの除外"
   ]
  },
  {
   "cell_type": "code",
   "execution_count": null,
   "metadata": {},
   "outputs": [],
   "source": [
    "input_columns = [\n",
    "    'market_beta', '企業規模', '簿価時価比率', '財務レバレッジ',\n",
    "    'PER', '赤字ダミー', '25日移動平均乖離率'\n",
    "]\n",
    "\n",
    "# 使用するカラムに絞る\n",
    "data_reduced = data_for_analysis.loc[:, ['超過収益率', *input_columns]]\n",
    "\n",
    "# 欠損レコードの削除\n",
    "data_reduced_wo_nan = data_reduced.dropna()\n",
    "\n",
    "print(f'欠損を除く前のレコード数: {data_reduced.shape[0]}')\n",
    "\n",
    "print(f'欠損を除いた後のレコード数: {data_reduced_wo_nan.shape[0]}')\n",
    "\n",
    "# 超過収益率（当日）を抽出\n",
    "data_labels = data_reduced_wo_nan.loc[:, '超過収益率'].to_frame().rename(\n",
    "    columns={'超過収益率': '翌日超過収益率'}\n",
    ")\n",
    "\n",
    "# 超過収益率（当日）を1 日ズラし、入力値と合わせる\n",
    "data_shifted = data_reduced_wo_nan.join(\n",
    "    data_labels.groupby(level=0).shift(-1)\n",
    ").dropna() \n",
    "\n",
    "print(\n",
    "    f'欠損を除いて翌日超過収益率カラムを追加した後のレコード数：'\n",
    "    f'{data_shifted.shape[0]}'\n",
    ")"
   ]
  },
  {
   "cell_type": "markdown",
   "metadata": {},
   "source": [
    "* ソースコード4.13　ネットワークの構築（SimpleNeuralNetworkクラスから抜粋）\n",
    "* ソースコード4.14　 ニューラルネットワークの学習メソッドとウェイト保存メソッド（SimpleNeuralNetworkクラスから抜粋）\n",
    "* ソースコード4.20　 ニューラルネットワークの予測値を算出するメソッド（SimpleNeuralNetworkクラスから抜粋）"
   ]
  },
  {
   "cell_type": "code",
   "execution_count": null,
   "metadata": {},
   "outputs": [],
   "source": [
    "# -- ソースコード4.13 ---\n",
    "class SimpleNeuralNet:\n",
    "    def __init__(self, sess, num_columns, training=True):\n",
    "        with tf.variable_scope('simple_neuralnet'):\n",
    "            self.inputs = tf.placeholder(\n",
    "                tf.float32, [num_columns], name='inputs'\n",
    "            )\n",
    "            self.inputs_reshaped = tf.reshape(\n",
    "                self.inputs, [1, num_columns]\n",
    "            )\n",
    "            \n",
    "            self.label = tf.placeholder(tf.float32, [1], name='label')\n",
    "            self.label_reshaped = tf.reshape(self.label, [1, 1])\n",
    "            \n",
    "            self.l1_w = tf.get_variable(\n",
    "                'l1_w', [num_columns, 1], dtype=tf.float32\n",
    "            )\n",
    "            self.l1_b = tf.get_variable(\n",
    "                'l1_b', [1], dtype=tf.float32\n",
    "            )\n",
    "            \n",
    "            # @ == matrix multiplication PEP465\n",
    "            self.output = self.inputs_reshaped @ self.l1_w + self.l1_b\n",
    "             \n",
    "            self.loss = tf.losses.mean_squared_error(\n",
    "                self.label_reshaped, self.output\n",
    "            )\n",
    "            \n",
    "            self.train_step = tf.train.AdagradOptimizer(0.1).minimize(\n",
    "                self.loss\n",
    "            )\n",
    "        \n",
    "        \n",
    "        if training: # ここは学習時のみ実行\n",
    "            sess.run(tf.global_variables_initializer())\n",
    "        \n",
    "        self.saver = tf.train.Saver(\n",
    "            var_list=tf.get_collection(\n",
    "                tf.GraphKeys.GLOBAL_VARIABLES, scope='simple_neuralnet'\n",
    "            )\n",
    "        )\n",
    "# -- ソースコード4.13 ここまで ---\n",
    "\n",
    "# -- ソースコード4.14 ---\n",
    "    def train_one_step(self, sess, inputs, label):\n",
    "        feed_dict = {\n",
    "            self.inputs: inputs,\n",
    "            self.label: label\n",
    "        }\n",
    "        fetches = [\n",
    "            self.loss,\n",
    "            self.train_step\n",
    "        ]\n",
    "        return sess.run(fetches, feed_dict)\n",
    "    \n",
    "    def save(self, sess, path):\n",
    "        self.saver.save(sess, path)\n",
    "        print(f'ウェイトを{path}に保存しました。')\n",
    "# -- ソースコード4.14 ここまで ---\n",
    "\n",
    "# -- ソースコード4.20 ---\n",
    "    def predict(self, sess, inputs):\n",
    "        feed_dict = {\n",
    "            self.inputs: inputs\n",
    "        }\n",
    "        fetches = [\n",
    "            self.output\n",
    "        ]\n",
    "        return sess.run(fetches, feed_dict)\n",
    "# -- ソースコード4.20 ここまで ---\n",
    "    \n",
    "    def get_l1(self, sess):\n",
    "        feed_dict = {\n",
    "        }\n",
    "        fetches = [\n",
    "            self.l1_w,\n",
    "            self.l1_b\n",
    "        ]\n",
    "        return sess.run(fetches, feed_dict)\n",
    "    \n",
    "\n",
    "    def restore(self, sess, path):\n",
    "        self.saver.restore(sess, path)\n",
    "        print(f'model restored from {path}')"
   ]
  },
  {
   "cell_type": "markdown",
   "metadata": {},
   "source": [
    "ソースコード4.15　準備したデータと学習メソッドを使用したウェイトの学習"
   ]
  },
  {
   "cell_type": "code",
   "execution_count": null,
   "metadata": {
    "scrolled": true
   },
   "outputs": [],
   "source": [
    "max_train_steps = 20000\n",
    "polling_interval = 100\n",
    "\n",
    "# 入力データと期待出力データに分ける\n",
    "data_inputs = data_shifted.loc[:, input_columns] \n",
    "# 期待出力データ\n",
    "data_labels = data_shifted.loc[:, ['翌日超過収益率']] \n",
    "\n",
    "# エポックごとの損失を保存する配列を予め準備\n",
    "loss_over_time = np.empty(\n",
    "    max_train_steps // polling_interval\n",
    ")\n",
    "\n",
    "# エポックごとのウェイトを保存する配列を予め準備\n",
    "weights_over_time = np.empty(\n",
    "    (max_train_steps // polling_interval, len(input_columns) + 1)\n",
    ")\n",
    "\n",
    "# グラフを初期化\n",
    "tf.reset_default_graph()\n",
    "\n",
    "with tf.Graph().as_default() and tf.Session() as session:\n",
    "    simple_neural_net = SimpleNeuralNet(\n",
    "        session,\n",
    "        len(input_columns),\n",
    "        training=True\n",
    "    )\n",
    "    \n",
    "    train_step = 0\n",
    "    loss_mean_polling_interval = 0.\n",
    "    for random_row in np.random.choice(\n",
    "        data_inputs.shape[0] - 1,\n",
    "        max_train_steps, \n",
    "        replace=True\n",
    "    ):\n",
    "        current_loss, _ = simple_neural_net.train_one_step(\n",
    "            session,\n",
    "            data_inputs.iloc[random_row, :].values,\n",
    "            data_labels.iloc[random_row, :].values\n",
    "        )\n",
    "        \n",
    "        loss_mean_polling_interval += current_loss\n",
    "\n",
    "        train_step += 1\n",
    "        if train_step % polling_interval == 0:\n",
    "            loss_over_time[\n",
    "                train_step // polling_interval - 1\n",
    "            ] = loss_mean_polling_interval / polling_interval\n",
    "            \n",
    "            loss_mean_polling_interval = 0.\n",
    "            \n",
    "            l1_w, l1_b = simple_neural_net.get_l1(session)\n",
    "            \n",
    "            weights_over_time[\n",
    "                train_step // polling_interval - 1\n",
    "            ] = np.array([l1_b, *l1_w]).flatten()\n",
    "            \n",
    "            print(\n",
    "                f'[{(train_step * 100) // max_train_steps:3}%] '\n",
    "                f'直近{polling_interval}ステップの平均ロス：'\n",
    "                f'{loss_over_time[train_step // polling_interval - 1]:.5f}'\n",
    "            )\n",
    "        \n",
    "    simple_neural_net.save(\n",
    "        session, os.path.join(\n",
    "            WORK_DIR, 'models', 'simple_neural_nets', 'simple_neural_net'\n",
    "        )\n",
    "    )\n",
    "    "
   ]
  },
  {
   "cell_type": "markdown",
   "metadata": {},
   "source": [
    "ソースコード4.16　ニューラルネットワークのウェイト時系列を使いやすい形状に変換"
   ]
  },
  {
   "cell_type": "code",
   "execution_count": null,
   "metadata": {},
   "outputs": [],
   "source": [
    "weights_over_time_df = pd.DataFrame(\n",
    "    weights_over_time,\n",
    "    columns=['alpha', *input_columns])\n",
    "weights_over_time_tidy = weights_over_time_df.stack().reset_index()\n",
    "weights_over_time_tidy.columns = ['エポック＃', '説明変数', 'ウェイト']"
   ]
  },
  {
   "cell_type": "markdown",
   "metadata": {},
   "source": [
    "Ìソースコード4.17　学習時のウェイトの時系列プロット"
   ]
  },
  {
   "cell_type": "code",
   "execution_count": null,
   "metadata": {},
   "outputs": [],
   "source": [
    "fig, ax = plt.subplots(figsize=(12,5))\n",
    "sns.lineplot(\n",
    "    data=weights_over_time_tidy,\n",
    "    x='エポック＃',\n",
    "    y='ウェイト',\n",
    "    hue='説明変数'\n",
    ")\n",
    "handles, labels = ax.get_legend_handles_labels()\n",
    "plt.legend(\n",
    "    handles=handles[1:], labels=labels[1:],\n",
    "    loc=4, ncol=3, title=labels[0]\n",
    ")"
   ]
  },
  {
   "cell_type": "markdown",
   "metadata": {},
   "source": [
    "ソースコード4.18　学習時の（対数）ロスの時系列プロット"
   ]
  },
  {
   "cell_type": "code",
   "execution_count": null,
   "metadata": {
    "scrolled": false
   },
   "outputs": [],
   "source": [
    "loss_over_time_df = pd.DataFrame(\n",
    "    loss_over_time,\n",
    "    columns=['loss']).reset_index()\n",
    "loss_over_time_df.columns = ['エポック＃', 'ロス']\n",
    "\n",
    "sns.lineplot(\n",
    "    x='エポック＃',\n",
    "    y='ロス',\n",
    "    data=loss_over_time_df,\n",
    "    ax=ax\n",
    ").set(\n",
    "    yscale='log',\n",
    "    ylabel='ロス（対数スケール）'\n",
    ")\n",
    "#fig.savefig(WORK_DIR + '/picture/4章_図4-10.eps')"
   ]
  },
  {
   "cell_type": "markdown",
   "metadata": {},
   "source": [
    "ソースコード4.19　最後の50回の学習エポックのウェイトのまとめ"
   ]
  },
  {
   "cell_type": "code",
   "execution_count": null,
   "metadata": {
    "scrolled": false
   },
   "outputs": [],
   "source": [
    "weights_over_time_df.assign().tail(1000).describe().transpose()"
   ]
  },
  {
   "cell_type": "markdown",
   "metadata": {},
   "source": [
    "ソースコード4.21　翌日超過収益率の予測値の計算"
   ]
  },
  {
   "cell_type": "code",
   "execution_count": null,
   "metadata": {
    "scrolled": true
   },
   "outputs": [],
   "source": [
    "predicted_returns = np.empty(data_shifted.shape[0])\n",
    "\n",
    "tf.reset_default_graph()\n",
    "with tf.Graph().as_default() and tf.Session() as session:\n",
    "    simple_neural_net = SimpleNeuralNet(session, len(input_columns), training=False)\n",
    "    simple_neural_net.restore(\n",
    "        session,\n",
    "        os.path.join(\n",
    "            WORK_DIR, 'models', 'simple_neural_nets', 'simple_neural_net'\n",
    "        )\n",
    "    )\n",
    "    for row_i, row in tqdm(\n",
    "        enumerate(data_shifted.loc[:, input_columns].itertuples(index=False)),\n",
    "        total=data_shifted.shape[0],\n",
    "        miniters=data_shifted.shape[0]//100\n",
    "    ):\n",
    "        # print(np.array(row))\n",
    "        predicted_returns[row_i] = simple_neural_net.predict(session, row)[0]\n",
    "\n",
    "data_shifted = data_shifted.assign(**{'翌日超過収益率（NN予測）': predicted_returns})"
   ]
  },
  {
   "cell_type": "markdown",
   "metadata": {},
   "source": [
    "ソースコード4.22　 予測値を使ったポートフォリオとマーケット平均ポートフォリオの収益率の計算"
   ]
  },
  {
   "cell_type": "code",
   "execution_count": null,
   "metadata": {},
   "outputs": [],
   "source": [
    "unique_dates = data_shifted.index.get_level_values(1).unique()\n",
    "\n",
    "lower_quantile_returns = np.empty(len(unique_dates))\n",
    "upper_quantile_returns = np.empty(len(unique_dates))\n",
    "mean_portfolio_returns = np.empty(len(unique_dates))\n",
    "\n",
    "for i, cur_date in enumerate(unique_dates):\n",
    "    # 日付ごとのデータを取り出す\n",
    "    cur_date_rows = data_shifted.loc[\n",
    "        data_shifted.index.get_level_values(1) == cur_date\n",
    "    ]\n",
    "    \n",
    "    lower_quantile = cur_date_rows.loc[\n",
    "        :, '翌日超過収益率（NN予測）'\n",
    "    ].quantile(0.2)\n",
    "    \n",
    "    upper_quantile = cur_date_rows.loc[\n",
    "        :, '翌日超過収益率（NN予測）'\n",
    "    ].quantile(0.8)\n",
    "    \n",
    "    lower_quantile_rows = cur_date_rows.loc[\n",
    "        cur_date_rows.loc[:, '翌日超過収益率（NN予測）'] <= lower_quantile\n",
    "    ]\n",
    "    upper_quantile_rows = cur_date_rows.loc[\n",
    "        cur_date_rows.loc[:, '翌日超過収益率（NN予測）'] >= upper_quantile\n",
    "    ]\n",
    "    \n",
    "    lower_quantile_returns[i] = lower_quantile_rows.loc[\n",
    "        :, '翌日超過収益率'\n",
    "    ].mean()\n",
    "    \n",
    "    upper_quantile_returns[i] = upper_quantile_rows.loc[\n",
    "        :, '翌日超過収益率'\n",
    "    ].mean()\n",
    "    \n",
    "    mean_portfolio_returns[i] = cur_date_rows.loc[\n",
    "        :, '翌日超過収益率'\n",
    "    ].mean()"
   ]
  },
  {
   "cell_type": "markdown",
   "metadata": {},
   "source": [
    "ソースコード4.23　ポートフォリオ価値の計算とそのグラフ化"
   ]
  },
  {
   "cell_type": "code",
   "execution_count": null,
   "metadata": {},
   "outputs": [],
   "source": [
    "portfolio_returns = pd.DataFrame(\n",
    "    np.transpose(\n",
    "        [\n",
    "            lower_quantile_returns,\n",
    "            upper_quantile_returns,\n",
    "            mean_portfolio_returns\n",
    "        ]\n",
    "    ),\n",
    "    columns=['予測値下位20%', '予測値上位20%', 'マーケット平均'],\n",
    "    index=unique_dates\n",
    ").stack().to_frame()\n",
    "portfolio_returns.columns = ['翌日超過収益率']\n",
    "portfolio_returns.index = portfolio_returns.index.rename(\n",
    "    ['日時', 'ポートフォリオ']\n",
    ")\n",
    "\n",
    "portfolio_returns = portfolio_returns.assign(\n",
    "    ポートフォリオ価値=(portfolio_returns + 1.).groupby(level=1).cumprod()\n",
    ")\n",
    "\n",
    "_, ax = plt.subplots(figsize=(12, 5))\n",
    "sns.lineplot(\n",
    "    data=portfolio_returns.reset_index(),\n",
    "    x='日時',\n",
    "    y='ポートフォリオ価値',\n",
    "    hue='ポートフォリオ',\n",
    "    ax=ax\n",
    ")"
   ]
  }
 ],
 "metadata": {
  "kernelspec": {
   "display_name": "Python 3",
   "language": "python",
   "name": "python3"
  },
  "language_info": {
   "codemirror_mode": {
    "name": "ipython",
    "version": 3
   },
   "file_extension": ".py",
   "mimetype": "text/x-python",
   "name": "python",
   "nbconvert_exporter": "python",
   "pygments_lexer": "ipython3",
   "version": "3.6.8"
  }
 },
 "nbformat": 4,
 "nbformat_minor": 2
}
