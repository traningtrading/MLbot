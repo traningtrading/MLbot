{
 "cells": [
  {
   "cell_type": "code",
   "execution_count": null,
   "metadata": {},
   "outputs": [],
   "source": [
    "import numpy as np\n",
    "import pandas as pd\n",
    "from tqdm import tqdm_notebook as tqdm\n",
    "from dateutil.relativedelta import relativedelta\n",
    "\n",
    "import warnings\n",
    "warnings.filterwarnings('ignore')\n",
    "\n",
    "import statsmodels.api as sm\n",
    "\n",
    "import matplotlib.pyplot as plt\n",
    "import seaborn as sns\n",
    "sns.set_style('whitegrid')\n",
    "plt.rcParams['font.family'] = 'Yu Mincho'\n",
    "from IPython.core.display import display\n",
    "%matplotlib inline\n",
    "\n",
    "# データの保存場所を指定。\n",
    "# この場合は、C:/sample/linear_regression/を読み書きする。\n",
    "WORK_DIR = 'C:/sample/linear_regression/'\n",
    "DATA_DIR = 'C:/sample/linear_regression/data/'\n",
    "\n",
    "# 2.2.1で作ったデータを読み込む\n",
    "data_for_analysis_loaded = pd.read_pickle(\n",
    "    f'{DATA_DIR}data_for_analysis_fin.pickle'\n",
    ")"
   ]
  },
  {
   "cell_type": "code",
   "execution_count": null,
   "metadata": {},
   "outputs": [],
   "source": [
    "independent_variables_names = [\n",
    "    'market_beta', '企業規模', '簿価時価比率', '財務レバレッジ',\n",
    "    '赤字ダミー', '25日移動平均乖離率', 'PER'\n",
    "]\n",
    "columns_to_use = [\n",
    "    '業種', '翌日収益率', '翌日超過収益率', '収益率', '市場収益率'\n",
    "] + independent_variables_names\n",
    "\n",
    "data_for_analysis=data_for_analysis_loaded.assign(\n",
    "    # 超過収益率を1日分ずらして、Y_iを作成\n",
    "    翌日超過収益率=lambda x: x['超過収益率'].groupby(level=0).shift(-1),\n",
    "    # 後のシミュレーションで利用するので一緒に作成しておく\n",
    "    翌日収益率=lambda x: x['収益率'].groupby(level=0).shift(-1)  \n",
    ")[columns_to_use]"
   ]
  },
  {
   "cell_type": "code",
   "execution_count": null,
   "metadata": {
    "scrolled": true
   },
   "outputs": [],
   "source": [
    "# 証券コードごとに5つずつ表示して、計算結果を確認\n",
    "data_for_analysis.dropna(\n",
    "    subset=independent_variables_names\n",
    ").groupby(level=0).head()"
   ]
  },
  {
   "cell_type": "code",
   "execution_count": null,
   "metadata": {},
   "outputs": [],
   "source": [
    "exclude_fin = data_for_analysis[\n",
    "    data_for_analysis['業種'].apply(\n",
    "        lambda x: x not in ['銀行', '証券・先物', '保険', 'その他金融']\n",
    "    )\n",
    "]"
   ]
  },
  {
   "cell_type": "code",
   "execution_count": null,
   "metadata": {
    "scrolled": true
   },
   "outputs": [],
   "source": [
    "data_tmp = exclude_fin.dropna(\n",
    "    subset=independent_variables_names\n",
    ").xs(pd.datetime(2016,7,6), level=1)  # 2016年7月6日のデータを取得\n",
    "exog = sm.add_constant(data_tmp[independent_variables_names])\n",
    "endog = data_tmp['翌日超過収益率']\n",
    "sm.OLS(endog, exog).fit().summary()"
   ]
  },
  {
   "cell_type": "code",
   "execution_count": null,
   "metadata": {
    "scrolled": true
   },
   "outputs": [],
   "source": [
    "data_tmp = exclude_fin.dropna(\n",
    "    subset=independent_variables_names\n",
    ").xs(pd.datetime(2017,7,6), level=1)  \n",
    "exog = sm.add_constant(data_tmp[independent_variables_names])\n",
    "endog = data_tmp['翌日超過収益率']\n",
    "sm.OLS(endog, exog).fit().summary()"
   ]
  },
  {
   "cell_type": "code",
   "execution_count": null,
   "metadata": {},
   "outputs": [],
   "source": [
    "def cross_sectional_regression_overtime(\n",
    "    data_with_excess_returns,\n",
    "    endog_name, exog_names\n",
    "):\n",
    "    group_by_date = data_with_excess_returns.groupby('日時')\n",
    "    \n",
    "    results = []\n",
    "    for date_point, values in tqdm(group_by_date):\n",
    "        \n",
    "        result = cross_sectional_regression(\n",
    "            values,\n",
    "            endog_name,\n",
    "            exog_names\n",
    "        )\n",
    "        if result is None:\n",
    "            continue\n",
    "        results.append(result)\n",
    "    \n",
    "    results = pd.concat(results)\n",
    "    return results"
   ]
  },
  {
   "cell_type": "code",
   "execution_count": null,
   "metadata": {},
   "outputs": [],
   "source": [
    "def cross_sectional_regression(data, endog_name, exog_names):\n",
    "    data = data.reset_index()\n",
    "    data = data.dropna(subset=endog_name + exog_names)\n",
    "\n",
    "    if data.shape[0] < 1:  # 空のDataFrameは無視する\n",
    "        return None\n",
    "\n",
    "    end_date = data['日時'].max()\n",
    "\n",
    "    endog = data[endog_name]\n",
    "\n",
    "    exog = data[exog_names]\n",
    "    exog = exog.assign(constant=1)\n",
    "\n",
    "    model = sm.OLS(endog, exog)\n",
    "\n",
    "    result = model.fit()\n",
    "    betas = result.params.rename(end_date)\n",
    "\n",
    "    result = pd.DataFrame(betas).T\n",
    "\n",
    "    return result"
   ]
  },
  {
   "cell_type": "code",
   "execution_count": null,
   "metadata": {},
   "outputs": [],
   "source": [
    "def calculate_mean_value_of_coefficients(coefficients):\n",
    "    mean = coefficients.mean().rename('mean')\n",
    "    std_err = (\n",
    "        coefficients.std() / np.sqrt(coefficients.shape[0])\n",
    "    ).rename('std err')\n",
    "    t_stat = (mean / std_err).rename('t-stat')\n",
    "    \n",
    "    result = pd.concat([mean, std_err, t_stat], axis=1)\n",
    "    \n",
    "    return result"
   ]
  },
  {
   "cell_type": "code",
   "execution_count": null,
   "metadata": {},
   "outputs": [],
   "source": [
    "coefficients_excluding_fin = cross_sectional_regression_overtime(\n",
    "    exclude_fin, endog_name=['翌日超過収益率'],\n",
    "    exog_names=independent_variables_names\n",
    ")\n",
    "\n",
    "# 結果を出力して確認\n",
    "display(coefficients_excluding_fin.head())  "
   ]
  },
  {
   "cell_type": "code",
   "execution_count": null,
   "metadata": {},
   "outputs": [],
   "source": [
    "result = calculate_mean_value_of_coefficients(\n",
    "    coefficients_excluding_fin\n",
    ")\n",
    "\n",
    "# 結果を出力して確認\n",
    "display(result)"
   ]
  },
  {
   "cell_type": "code",
   "execution_count": null,
   "metadata": {
    "scrolled": false
   },
   "outputs": [],
   "source": [
    "result[['mean']].applymap(lambda x: '{:.2%}'.format(x * 250))  # 表2-1を作成"
   ]
  },
  {
   "cell_type": "code",
   "execution_count": null,
   "metadata": {
    "scrolled": true
   },
   "outputs": [],
   "source": [
    "window_size = 50\n",
    "rolling_coefficients = coefficients_excluding_fin.rolling(\n",
    "    window_size\n",
    ").mean()\n",
    "\n",
    "rolling_std_err = (\n",
    "    coefficients_excluding_fin.rolling(window_size).std()\n",
    "    / np.sqrt(window_size)\n",
    ")\n",
    "\n",
    "rolling_coefficients.index.rename('日付', inplace=True)\n",
    "\n",
    "fig, axes=plt.subplots(4, 2, figsize=(12, 12))\n",
    "\n",
    "for col, ax in zip(rolling_coefficients.columns, axes.flatten()):\n",
    "    sns.lineplot(data=rolling_coefficients[col], ax=ax)\n",
    "    sns.lineplot(\n",
    "        data=rolling_coefficients[col] + 2 * rolling_std_err[col],\n",
    "        ax=ax,\n",
    "        color='gray'\n",
    "    )\n",
    "    sns.lineplot(\n",
    "        data=rolling_coefficients[col] - 2 * rolling_std_err[col],\n",
    "        ax=ax,\n",
    "        color='gray'\n",
    "    )\n",
    "    ax.hlines( # y = 0の破線を引く\n",
    "        0, *ax.get_xlim(), \n",
    "        linestyles=':', alpha=.5\n",
    "    )    \n",
    "    for line in ax.get_lines()[1:]:\n",
    "        line.set_linestyle('--')\n",
    "    ax.set_title(col if col != 'PER' else 'E/P ratio')\n",
    "\n",
    "fig.tight_layout() # グラフ同士の間隔を広げる"
   ]
  },
  {
   "cell_type": "code",
   "execution_count": null,
   "metadata": {},
   "outputs": [],
   "source": [
    "def create_portfolio_by_one_variable(\n",
    "    data,\n",
    "    sort_by,\n",
    "    q,\n",
    "    labels=None,\n",
    "    group_name=None\n",
    "):\n",
    "    group_by_date = data.groupby('日時')\n",
    "    \n",
    "    if isinstance(q, int) and labels is None:\n",
    "        labels = range(q)\n",
    "\n",
    "    values = []\n",
    "    for date, value in group_by_date:\n",
    "        if value[sort_by].isnull().all(): # 空のDataFrameは無視する\n",
    "            continue\n",
    "            \n",
    "        value = value.assign(\n",
    "            quantile=lambda x: pd.qcut(\n",
    "                x[sort_by], q, labels=labels\n",
    "            )\n",
    "        )\n",
    "        \n",
    "        if group_name is not None:\n",
    "            value.rename(columns={'quantile':group_name}, inplace=True)\n",
    "            \n",
    "        values.append(value)\n",
    "    \n",
    "    return pd.concat(values)"
   ]
  },
  {
   "cell_type": "code",
   "execution_count": null,
   "metadata": {},
   "outputs": [],
   "source": [
    "portfolio_by_mv = create_portfolio_by_one_variable(\n",
    "    data=exclude_fin,\n",
    "    sort_by='25日移動平均乖離率',\n",
    "    q=5,\n",
    "    labels=range(5),\n",
    "    group_name='MV_quantile'\n",
    ")"
   ]
  },
  {
   "cell_type": "code",
   "execution_count": null,
   "metadata": {},
   "outputs": [],
   "source": [
    "portfolio_by_mv.head()"
   ]
  },
  {
   "cell_type": "code",
   "execution_count": null,
   "metadata": {},
   "outputs": [],
   "source": [
    "portfolio_returns = portfolio_by_mv.groupby(\n",
    "    ['MV_quantile', '日時']\n",
    ")['翌日収益率'].mean()"
   ]
  },
  {
   "cell_type": "code",
   "execution_count": null,
   "metadata": {},
   "outputs": [],
   "source": [
    "market_return = exclude_fin.groupby(\n",
    "    '日時'\n",
    ")['翌日収益率'].mean().rename('単純平均リターン')"
   ]
  },
  {
   "cell_type": "code",
   "execution_count": null,
   "metadata": {},
   "outputs": [],
   "source": [
    "fig, ax = plt.subplots(figsize=(12, 5))\n",
    "\n",
    "to_plot=portfolio_returns.unstack().T.filter(\n",
    "    items=[0, 4]\n",
    ").rename(\n",
    "    columns={0:'乖離率 低', 4:'乖離率 高'}\n",
    ").join(\n",
    "    market_return\n",
    ").dropna(\n",
    "    how='all'\n",
    ").apply(\n",
    "    lambda column: np.log((column + 1).cumprod())\n",
    ")\n",
    "to_plot.columns.rename('ポートフォリオ', inplace=True)\n",
    "\n",
    "sns.lineplot(\n",
    "    data=to_plot.stack().reset_index(name='累積リターン'),\n",
    "    x='日時',\n",
    "    y='累積リターン',\n",
    "    hue='ポートフォリオ',\n",
    "    style='ポートフォリオ',\n",
    "    palette='gray',\n",
    "    ax=ax\n",
    ")"
   ]
  },
  {
   "cell_type": "code",
   "execution_count": null,
   "metadata": {},
   "outputs": [],
   "source": [
    "# ポートフォリオの構築\n",
    "portfolio_by_per = create_portfolio_by_one_variable(\n",
    "    data=exclude_fin,\n",
    "    sort_by='PER',\n",
    "    q=5,\n",
    "    labels=range(5),\n",
    "    group_name='PER_quantile'\n",
    ")\n",
    "\n",
    "# 累積リターンの計算\n",
    "portfolio_returns = portfolio_by_per.groupby(\n",
    "    ['PER_quantile', '日時']\n",
    ")['翌日収益率'].mean()\n",
    "\n",
    "to_plot=portfolio_returns.unstack().T.filter(\n",
    "    items=[0, 4]\n",
    ").rename(\n",
    "    columns={0:'低E/P ratio', 4:'高E/P ratio'}\n",
    ").join(\n",
    "    market_return\n",
    ").dropna(\n",
    "    how='all'\n",
    ").apply(\n",
    "    lambda column: np.log((column + 1).cumprod())\n",
    ")\n",
    "to_plot.columns.rename('ポートフォリオ', inplace=True)\n",
    "_, ax=plt.subplots(figsize=(12, 5))\n",
    "sns.lineplot(\n",
    "    data=to_plot.stack().reset_index(name='累積リターン'),\n",
    "    x='日時',\n",
    "    y='累積リターン',\n",
    "    hue='ポートフォリオ',\n",
    "    style='ポートフォリオ',\n",
    "    palette='gray',\n",
    "    ax=ax\n",
    ")"
   ]
  },
  {
   "cell_type": "code",
   "execution_count": null,
   "metadata": {
    "scrolled": false
   },
   "outputs": [],
   "source": [
    "# プロットして比較\n",
    "fig, ax = plt.subplots(figsize=(12, 5))\n",
    "handles, labels = [], []\n",
    "hml = portfolio_returns.loc[4].rolling(25).sum() - portfolio_returns.loc[0].rolling(25).sum()\n",
    "ax=hml.rename('割安・成長のパフォーマンス差').plot(color='k', ax=ax)\n",
    "handle, label= ax.get_legend_handles_labels()\n",
    "handles.extend(handle)\n",
    "labels.extend(label)\n",
    "\n",
    "ax=(np.log(market_return.apply(lambda x:x**2).rolling(10).sum()[hml.index])).plot(\n",
    "    ax=ax, secondary_y=True, linestyle=':', color='gray'\n",
    ")\n",
    "handle, label= ax.get_legend_handles_labels()\n",
    "handles.extend(handle)\n",
    "labels.extend(label)\n",
    "\n",
    "ax.set_title('割安・成長ポートフォリオのパフォーマンス差とボラティリティ')\n",
    "ax.legend(handles, labels, bbox_to_anchor=(.5,-.2), ncol=2, loc='upper center')"
   ]
  },
  {
   "cell_type": "code",
   "execution_count": null,
   "metadata": {},
   "outputs": [],
   "source": [
    "def calculate_predicted_values(\n",
    "    exog,\n",
    "    shifted_coefficients,\n",
    "    predicted_value_label='predicted_value'\n",
    "):\n",
    "    predicted_returns=[]\n",
    "    \n",
    "    group_by_date = exog.groupby(level=1)\n",
    "    for date, group in tqdm(group_by_date):\n",
    "        try:\n",
    "            coefficients_ = shifted_coefficients.xs(date).T\n",
    "\n",
    "            predicted = np.dot(group.values, coefficients_)\n",
    "            predicted_returns.append(\n",
    "                pd.DataFrame(\n",
    "                    predicted,\n",
    "                    columns=[predicted_value_label],\n",
    "                    index=group.index\n",
    "                )\n",
    "            )\n",
    "        except KeyError:\n",
    "            continue\n",
    "\n",
    "    predicted_returns = pd.concat(predicted_returns).sort_index()\n",
    "\n",
    "    return predicted_returns"
   ]
  },
  {
   "cell_type": "code",
   "execution_count": null,
   "metadata": {
    "scrolled": true
   },
   "outputs": [],
   "source": [
    "# ファクターと実測値の準備\n",
    "X = exclude_fin.assign(constant=1)[coefficients_excluding_fin.columns]"
   ]
  },
  {
   "cell_type": "code",
   "execution_count": null,
   "metadata": {},
   "outputs": [],
   "source": [
    "predicted = calculate_predicted_values(\n",
    "    X,\n",
    "    coefficients_excluding_fin.shift(),\n",
    "    '予測リターン'\n",
    ")\n",
    "\n",
    "data_with_predicted_values = predicted.join(exclude_fin)\n",
    "\n",
    "data_with_predicted_values.head()"
   ]
  },
  {
   "cell_type": "code",
   "execution_count": null,
   "metadata": {},
   "outputs": [],
   "source": [
    "portfolio_by_predicted = create_portfolio_by_one_variable(\n",
    "    data=data_with_predicted_values,\n",
    "    sort_by='予測リターン',\n",
    "    q=5,\n",
    "    labels=range(5),\n",
    "    group_name='predicted_quantile'\n",
    ")"
   ]
  },
  {
   "cell_type": "code",
   "execution_count": null,
   "metadata": {
    "scrolled": false
   },
   "outputs": [],
   "source": [
    "# 累積リターンの計算\n",
    "portfolio_returns = portfolio_by_predicted.groupby(\n",
    "    ['predicted_quantile', '日時']\n",
    ")['翌日収益率'].mean()\n",
    "\n",
    "# プロットして比較\n",
    "fig, ax = plt.subplots(figsize=(12, 5))\n",
    "\n",
    "to_plot=portfolio_returns.unstack().T.filter(\n",
    "    items=[0, 4]\n",
    ").rename(\n",
    "    columns={0:'予測値 低', 4:'予測値 高'}\n",
    ").join(\n",
    "    market_return\n",
    ").dropna(\n",
    "    how='all'\n",
    ").apply(\n",
    "    lambda column: np.log((column + 1).cumprod())\n",
    ")\n",
    "to_plot.columns.rename('ポートフォリオ', inplace=True)\n",
    "sns.lineplot(\n",
    "    data=to_plot.stack().reset_index(name='累積リターン'),\n",
    "    x='日時',\n",
    "    y='累積リターン',\n",
    "    hue='ポートフォリオ',\n",
    "    style='ポートフォリオ',\n",
    "    palette='gray',\n",
    "    ax=ax\n",
    ")\n",
    "\n",
    "\n",
    "ax.set_title('予測値に基づくポートフォリオの累積リターン')\n",
    "ax.legend(loc='upper left')"
   ]
  },
  {
   "cell_type": "code",
   "execution_count": null,
   "metadata": {},
   "outputs": [],
   "source": [
    "fig, ax = plt.subplots(figsize=(12, 5))\n",
    "\n",
    "pos_ = portfolio_by_predicted[\n",
    "    (portfolio_by_predicted['予測リターン'] > 0)\n",
    "].groupby('日時')['翌日収益率'].mean() + 1\n",
    "\n",
    "neg_ = portfolio_by_predicted[\n",
    "    (portfolio_by_predicted['予測リターン']<=0)\n",
    "].groupby('日時')['翌日収益率'].mean()+1\n",
    "\n",
    "to_plot = pd.concat(\n",
    "    [\n",
    "        np.log(pos_).cumsum().rename('予測値 正'),\n",
    "        np.log(neg_).cumsum().rename('予測値 負'),\n",
    "        np.log(market_return[neg_.index] + 1).cumsum()\n",
    "    ],\n",
    "    axis=1\n",
    ")\n",
    "to_plot.columns.rename('ポートフォリオ', inplace=True)\n",
    "sns.lineplot(\n",
    "    data=to_plot.stack().reset_index(name='累積リターン'),\n",
    "    x='日時',\n",
    "    y='累積リターン',\n",
    "    hue='ポートフォリオ',\n",
    "    style='ポートフォリオ',\n",
    "    palette='gray',\n",
    "    ax=ax\n",
    ")"
   ]
  },
  {
   "cell_type": "code",
   "execution_count": null,
   "metadata": {
    "scrolled": true
   },
   "outputs": [],
   "source": [
    "test_predicted = cross_sectional_regression_overtime(\n",
    "    data_with_predicted_values,\n",
    "    endog_name=['翌日超過収益率'],\n",
    "    exog_names=['予測リターン']\n",
    ")\n",
    "\n",
    "calculate_mean_value_of_coefficients(test_predicted)"
   ]
  },
  {
   "cell_type": "code",
   "execution_count": null,
   "metadata": {},
   "outputs": [],
   "source": [
    "data_for_analysis_loaded"
   ]
  }
 ],
 "metadata": {
  "kernelspec": {
   "display_name": "Python 3",
   "language": "python",
   "name": "python3"
  },
  "language_info": {
   "codemirror_mode": {
    "name": "ipython",
    "version": 3
   },
   "file_extension": ".py",
   "mimetype": "text/x-python",
   "name": "python",
   "nbconvert_exporter": "python",
   "pygments_lexer": "ipython3",
   "version": "3.6.8"
  }
 },
 "nbformat": 4,
 "nbformat_minor": 2
}
